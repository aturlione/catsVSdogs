{
 "cells": [
  {
   "cell_type": "code",
   "execution_count": 1,
   "metadata": {},
   "outputs": [
    {
     "data": {
      "text/plain": [
       "'2.4.3'"
      ]
     },
     "execution_count": 1,
     "metadata": {},
     "output_type": "execute_result"
    }
   ],
   "source": [
    "import keras\n",
    "import matplotlib.pyplot as plt\n",
    "keras.__version__"
   ]
  },
  {
   "cell_type": "markdown",
   "metadata": {},
   "source": [
    "# Utilizando convnets con datasets pequeños\n",
    "\n",
    "Lo primero que tienes que hacer es descargarte el dataset de https://lara.web.cern.ch/lara/train.zip en la terminal de Jupyter y descomprimirlo en la misma carpeta donde se encuentra esta libreta. \n",
    "\n",
    "Para descargar otro conjunto de datos desde imagenet se puede descargar la lista con las URL a las imágenes y usar `wget -i`\n",
    "\n",
    "\n",
    "\n",
    "## Entrenando desde 0 una convNet\n",
    "\n",
    "Entrenar un modelo de clasificación de imágenes con muy pocos datos es una situación común en la que te encontrarás si acabas dedicándote a hacer Computer Vision en un contexto profesional. \n",
    "\n",
    "Tener \"pocas\" muestras puede significar cualquier cosa entre unos pocos cientos y unas pocas decenas de miles de imágenes. Vamos a ilustrar aqui un ejemplo práctico: vamos a centrarnos en clasificar imágenes como \"perros\" y \"gatos\".\n"
   ]
  },
  {
   "cell_type": "markdown",
   "metadata": {},
   "source": [
    "## La relevancia del Deep Learning en problemas con pocos datos\n",
    "\n",
    "Quizás habrás oido muchas veces que el Deep Learning solo funciona cuando se tienen grandes cantidades de datos. Esto en parte es verdad: una de las características del Deep learning es que puede encontrar características interesantes a partir del dataset de entrenamiento por si mismo, y esto a priori es más sencillo cuando se tienen muchos ejemplos disponibles, especialmente en el caso de tener datasets de input con una alta dimensionalidad, como es el caso de las imágenes.\n",
    "\n",
    "Sin embargo, lo que constituye un dataset \"grande\" es relativo. Concretamente relativo al tamaño y la profundidad de la red que estamos intentando entrenar. No es posible enrenar una convnet para que resulta un problema completo con solo unas decenas de ejemplos, pero unos pocos cientos puede ser suficiente si el modelo está bien montado (entenderemos que significa bien \"montado\" a lo largo del curso de Deep Learning).\n",
    "\n",
    "Como las convnets aprenden características locales, invariantes bajo translaciones, son muy eficientes en cuanto al número de imágenes necesarias para llevar a cabo problemas perceptuales. Así que entrenar una convnet desde 0 con un dataset no muy grande aún nos puede llevar a resultados razonables como veremos aqui.\n",
    "\n",
    "Pero hay más aún: los modelos de Deep Learning son altamente \"reciclables\". Uno puede coger, por ejemplo, un problema de clasificación de imagen y un convertidor de voz a texto entrenado sobre un dataset muy grande y luego reutilizarlo para resolver otro problema completamente distinto solo añadiéndole pequeñas modificaciones. Más especificamente, en el caso de Computer Vision, muchos modelos pre-entrenados (normalmente entrenados en el dataset ImageNet) son hechos publicos para que uno pueda descargarlos y utilizarlos para crear potentes modelos de Computer Vision con muy pocos datos. \n",
    "\n",
    "Pero aqui nos vamos a limitar a correr un ejemplo sencillito. \n"
   ]
  },
  {
   "cell_type": "markdown",
   "metadata": {},
   "source": [
    "## Los datos\n",
    "\n",
    "El dataset de gatos vs perros que utilizamos no es un paquete de Keras. Se publicó en Kaggle.com como parte de un problema de Computer Vision a finales de 2013, cuando todavía las ConvNets no eran tan populares. \n",
    "\n",
    "Las imágenes son JPGEs de resolución media. Tiene este aspecto:\n",
    "\n",
    "![cats_vs_dogs_samples](https://s3.amazonaws.com/book.keras.io/img/ch5/cats_vs_dogs_samples.jpg)"
   ]
  },
  {
   "cell_type": "markdown",
   "metadata": {},
   "source": [
    "No es ninguna sorpresa que la competición de gatos vs perros de Kaggle en 2013 fuera ganada por ConvNets. Los mejores pudieron alcanzar una precisión de hasta 95%. En nuestro ejemplo vamos a quedarnos todavía lejos de esta precisión, pero durante el curso de Deep Learning hemos aprendido como acercarnos a este valor utilizando diversos métodos para mejorar el rendimiento de las redes neuronales. Hay que tener en cuenta que en este ejemplo estamos entrenando aproximadamente sobre solo el 10% de los datos que se utilizaron para el concurso. \n",
    "Después de descargar el dataset y descomprimirlo, vamos a crear un nuevo dataset que contiene tres subsets: un set de training que contiene 1000 imágenes de cada clase, un set de validación con 500 imágenes de cada clase, y finalmente un set de test con 500 imágenes de cada clase.\n",
    "\n",
    "Aqui tenemos unas cuantas líneas de código que nos hacen este reparto automáticamente:\n",
    "\n"
   ]
  },
  {
   "cell_type": "code",
   "execution_count": 2,
   "metadata": {},
   "outputs": [],
   "source": [
    "import os, shutil"
   ]
  },
  {
   "cell_type": "code",
   "execution_count": 3,
   "metadata": {},
   "outputs": [],
   "source": [
    "# The path to the directory where the original\n",
    "# dataset was uncompressed\n",
    "original_dataset_dir = 'E:\\\\MASTER_DATA\\\\Machine_LearningI\\\\3_Practicas\\\\MachineLearningI\\\\train'\n",
    "\n",
    "# The directory where we will\n",
    "# store our smaller dataset\n",
    "base_dir = 'E:\\\\MASTER_DATA\\\\Machine_LearningI\\\\3_Practicas\\\\MachineLearningI\\\\train\\\\cats_and_dogs_small'\n",
    "if not os.path.exists(base_dir):\n",
    "    os.mkdir(base_dir)\n",
    "\n",
    "# Directories for our training,\n",
    "# validation and test splits\n",
    "train_dir = os.path.join(base_dir, 'train')\n",
    "if not os.path.exists(base_dir):\n",
    "    os.mkdir(train_dir)\n",
    "validation_dir = os.path.join(base_dir, 'validation')\n",
    "if not os.path.exists(base_dir):\n",
    "    os.mkdir(validation_dir)\n",
    "test_dir = os.path.join(base_dir, 'test')\n",
    "if not os.path.exists(base_dir):\n",
    "    os.mkdir(test_dir)\n",
    "\n",
    "# Directory with our training cat pictures\n",
    "train_cats_dir = os.path.join(train_dir, 'cats')\n",
    "if not os.path.exists(base_dir):\n",
    "    os.mkdir(train_cats_dir)\n",
    "\n",
    "# Directory with our training dog pictures\n",
    "train_dogs_dir = os.path.join(train_dir, 'dogs')\n",
    "if not os.path.exists(base_dir):\n",
    "    os.mkdir(train_dogs_dir)\n",
    "\n",
    "# Directory with our validation cat pictures\n",
    "validation_cats_dir = os.path.join(validation_dir, 'cats')\n",
    "if not os.path.exists(base_dir):\n",
    "    os.mkdir(validation_cats_dir)\n",
    "\n",
    "# Directory with our validation dog pictures\n",
    "validation_dogs_dir = os.path.join(validation_dir, 'dogs')\n",
    "if not os.path.exists(base_dir):\n",
    "    os.mkdir(validation_dogs_dir)\n",
    "\n",
    "# Directory with our validation cat pictures\n",
    "test_cats_dir = os.path.join(test_dir, 'cats')\n",
    "if not os.path.exists(base_dir):\n",
    "    os.mkdir(test_cats_dir)\n",
    "\n",
    "# Directory with our validation dog pictures\n",
    "test_dogs_dir = os.path.join(test_dir, 'dogs')\n",
    "if not os.path.exists(base_dir):\n",
    "    os.mkdir(test_dogs_dir)\n",
    "\n",
    "# Copy first 1000 cat images to train_cats_dir\n",
    "fnames = ['cat.{}.jpg'.format(i) for i in range(1000)]\n",
    "for fname in fnames:\n",
    "    src = os.path.join(original_dataset_dir, fname)\n",
    "    dst = os.path.join(train_cats_dir, fname)\n",
    "    shutil.copyfile(src, dst)\n",
    "\n",
    "# Copy next 500 cat images to validation_cats_dir\n",
    "fnames = ['cat.{}.jpg'.format(i) for i in range(1000, 1500)]\n",
    "for fname in fnames:\n",
    "    src = os.path.join(original_dataset_dir, fname)\n",
    "    dst = os.path.join(validation_cats_dir, fname)\n",
    "    shutil.copyfile(src, dst)\n",
    "    \n",
    "# Copy next 500 cat images to test_cats_dir\n",
    "fnames = ['cat.{}.jpg'.format(i) for i in range(1500, 2000)]\n",
    "for fname in fnames:\n",
    "    src = os.path.join(original_dataset_dir, fname)\n",
    "    dst = os.path.join(test_cats_dir, fname)\n",
    "    shutil.copyfile(src, dst)\n",
    "    \n",
    "# Copy first 1000 dog images to train_dogs_dir\n",
    "fnames = ['dog.{}.jpg'.format(i) for i in range(1000)]\n",
    "for fname in fnames:\n",
    "    src = os.path.join(original_dataset_dir, fname)\n",
    "    dst = os.path.join(train_dogs_dir, fname)\n",
    "    shutil.copyfile(src, dst)\n",
    "    \n",
    "# Copy next 500 dog images to validation_dogs_dir\n",
    "fnames = ['dog.{}.jpg'.format(i) for i in range(1000, 1500)]\n",
    "for fname in fnames:\n",
    "    src = os.path.join(original_dataset_dir, fname)\n",
    "    dst = os.path.join(validation_dogs_dir, fname)\n",
    "    shutil.copyfile(src, dst)\n",
    "    \n",
    "# Copy next 500 dog images to test_dogs_dir\n",
    "fnames = ['dog.{}.jpg'.format(i) for i in range(1500, 2000)]\n",
    "for fname in fnames:\n",
    "    src = os.path.join(original_dataset_dir, fname)\n",
    "    dst = os.path.join(test_dogs_dir, fname)\n",
    "    shutil.copyfile(src, dst)"
   ]
  },
  {
   "cell_type": "markdown",
   "metadata": {},
   "source": [
    "As a sanity check, let's count how many pictures we have in each training split (train/validation/test):"
   ]
  },
  {
   "cell_type": "code",
   "execution_count": 4,
   "metadata": {},
   "outputs": [
    {
     "name": "stdout",
     "output_type": "stream",
     "text": [
      "total training cat images: 1000\n"
     ]
    }
   ],
   "source": [
    "print('total training cat images:', len(os.listdir(train_cats_dir)))"
   ]
  },
  {
   "cell_type": "code",
   "execution_count": 5,
   "metadata": {},
   "outputs": [
    {
     "name": "stdout",
     "output_type": "stream",
     "text": [
      "total training dog images: 1000\n"
     ]
    }
   ],
   "source": [
    "print('total training dog images:', len(os.listdir(train_dogs_dir)))"
   ]
  },
  {
   "cell_type": "code",
   "execution_count": 6,
   "metadata": {},
   "outputs": [
    {
     "name": "stdout",
     "output_type": "stream",
     "text": [
      "total validation cat images: 500\n"
     ]
    }
   ],
   "source": [
    "print('total validation cat images:', len(os.listdir(validation_cats_dir)))"
   ]
  },
  {
   "cell_type": "code",
   "execution_count": 7,
   "metadata": {},
   "outputs": [
    {
     "name": "stdout",
     "output_type": "stream",
     "text": [
      "total validation dog images: 500\n"
     ]
    }
   ],
   "source": [
    "print('total validation dog images:', len(os.listdir(validation_dogs_dir)))"
   ]
  },
  {
   "cell_type": "code",
   "execution_count": 8,
   "metadata": {},
   "outputs": [
    {
     "name": "stdout",
     "output_type": "stream",
     "text": [
      "total test cat images: 500\n"
     ]
    }
   ],
   "source": [
    "print('total test cat images:', len(os.listdir(test_cats_dir)))"
   ]
  },
  {
   "cell_type": "code",
   "execution_count": 9,
   "metadata": {},
   "outputs": [
    {
     "name": "stdout",
     "output_type": "stream",
     "text": [
      "total test dog images: 500\n"
     ]
    }
   ],
   "source": [
    "print('total test dog images:', len(os.listdir(test_dogs_dir)))"
   ]
  },
  {
   "cell_type": "markdown",
   "metadata": {},
   "source": [
    "\n",
    "Así que efectivamente tenemos 2000 imágenes de entrenamiento, 1000 imágenes de validación y 1000 imágenes de test. En cada uno de estos subsets hay el mismo número de ejemplos de cada clase: esto es lo que se llama un sistema de clasificación binario balanceado, lo cual significa que nuestra precisión de clasificación será una métrica adecuada del éxito de nuestra solución."
   ]
  },
  {
   "cell_type": "markdown",
   "metadata": {},
   "source": [
    "## Construyendo nuestra red\n",
    "\n",
    "En el anterior ejemplo hemos construido una pequeña convnet para resolver el problema de clasificar números escritos a mano usando el dataset MNIST, así que ya estamos familiarizados con la terminología que utiliza keras. Vamos a reutilizar la estructura general que teniamos en el ejemplo anterior: nuestra convnet tendra una pila de capas alternadas de `Conv2D` (con activación `relu` ) y capas  `MaxPooling2D`.\n",
    "\n",
    "Sin embargo, como estamos tratando con imágenes mayores y un problema más complejo, vamos a crear nuestra red en consecuencia: tendrá una capa más de `Conv2D` + `MaxPooling2D`. Esto sirve para aumentar la capacidad de la red y para reducir aún más el tamaño de los mapas de características, para que no sean tan enormes cuando lleguen al paso de aplanado. Empezamos usando imágenes de input de 150x150 (una elección arbitraria), y acabaremos con mapas de características que tienen un tamaño de 7x7 antes de la capa de aplanamiento.\n",
    "\n",
    "Es importante tener en cuenta que la profundidad de los mapas de características va creciendo progresivamente según se avanza en la red neuronales ( de 32 a 128) mientras que el tamaño de los mapas de características va disminuyendo (de 148x148 a 7x7). Este patrón lo verás en casi todas las convnets.\n",
    "\n",
    "Como estamos atacando un problema de clasificación binaria (perro o gato), vamos a acabar la red con una única unidad (una capa densa de tamaño 1) y con una activación sigmoide. Esta unidad codificará la probabilidad de que nuestra red esté mirando a una clase o a otra.\n",
    "\n",
    "El aspecto final del modelo debe de ser el siguiente:\n",
    "\n",
    "![modelo_red_animales.png](https://github.com/laramaktub/MachineLearningI/blob/master/modelo_red_animales.png?raw=true)"
   ]
  },
  {
   "cell_type": "code",
   "execution_count": 4,
   "metadata": {},
   "outputs": [
    {
     "name": "stdout",
     "output_type": "stream",
     "text": [
      "Model: \"sequential\"\n",
      "_________________________________________________________________\n",
      "Layer (type)                 Output Shape              Param #   \n",
      "=================================================================\n",
      "conv2d (Conv2D)              (None, 148, 148, 32)      896       \n",
      "_________________________________________________________________\n",
      "max_pooling2d (MaxPooling2D) (None, 74, 74, 32)        0         \n",
      "_________________________________________________________________\n",
      "conv2d_1 (Conv2D)            (None, 72, 72, 64)        18496     \n",
      "_________________________________________________________________\n",
      "max_pooling2d_1 (MaxPooling2 (None, 36, 36, 64)        0         \n",
      "_________________________________________________________________\n",
      "conv2d_2 (Conv2D)            (None, 34, 34, 128)       73856     \n",
      "_________________________________________________________________\n",
      "max_pooling2d_2 (MaxPooling2 (None, 17, 17, 128)       0         \n",
      "_________________________________________________________________\n",
      "conv2d_3 (Conv2D)            (None, 15, 15, 128)       147584    \n",
      "_________________________________________________________________\n",
      "max_pooling2d_3 (MaxPooling2 (None, 7, 7, 128)         0         \n",
      "_________________________________________________________________\n",
      "flatten (Flatten)            (None, 6272)              0         \n",
      "_________________________________________________________________\n",
      "dense (Dense)                (None, 512)               3211776   \n",
      "_________________________________________________________________\n",
      "dense_1 (Dense)              (None, 1)                 513       \n",
      "=================================================================\n",
      "Total params: 3,453,121\n",
      "Trainable params: 3,453,121\n",
      "Non-trainable params: 0\n",
      "_________________________________________________________________\n"
     ]
    }
   ],
   "source": [
    "from keras import layers\n",
    "from keras import models\n",
    "\n",
    "model = models.Sequential()\n",
    "\n",
    "model.add(layers.Conv2D(32,(3,3) , activation='relu', input_shape=(150,150,3)))\n",
    "model.add(layers.MaxPooling2D(2,2))\n",
    "\n",
    "model.add(layers.Conv2D(64,(3,3) , activation='relu', input_shape=(150,150,3)))\n",
    "model.add(layers.MaxPooling2D(2,2))\n",
    "\n",
    "model.add(layers.Conv2D(128,(3,3) , activation='relu', input_shape=(150,150,3)))\n",
    "model.add(layers.MaxPooling2D(2,2))\n",
    "\n",
    "model.add(layers.Conv2D(128,(3,3) , activation='relu', input_shape=(150,150,3)))\n",
    "model.add(layers.MaxPooling2D(2,2))\n",
    "\n",
    "model.add(layers.Flatten())\n",
    "\n",
    "model.add(layers.Dense(units=512, activation='relu'))\n",
    "model.add(layers.Dense(units=1, activation='sigmoid'))\n",
    "\n",
    "model.summary()"
   ]
  },
  {
   "cell_type": "markdown",
   "metadata": {},
   "source": [
    "Para el paso de compilación utilizaremos el optimizador `RMSprop`(lr=1e-4). Como nuestra red termina con una única unidad sigmoide, vamos a utilizar binary crossentropy como nuestra función de pérdida."
   ]
  },
  {
   "cell_type": "code",
   "execution_count": 5,
   "metadata": {},
   "outputs": [],
   "source": [
    "from keras import optimizers\n",
    " \n",
    "model.compile(loss='binary_crossentropy',\n",
    "              optimizer=optimizers.RMSprop(lr=1e-4),\n",
    "              metrics=['acc'])"
   ]
  },
  {
   "cell_type": "markdown",
   "metadata": {},
   "source": [
    "##  Preprocesado de datos\n",
    "\n",
    "Las imágenes deben estar formateadas apropiadamente en tensores de flotantes antes de dárselas a la red. Esto es justo lo que vamos a hacer aqui. Antes de preprocesarlas las imágenes son archivos JPEG. Los pasos para poder darlos a nuestra red son a grandes rasgos:\n",
    "\n",
    "* Leer los archivos con las imágenes.\n",
    "* Decodificar el contenido del JPEG en una \"parrilla\" con el RGB de los pixels \n",
    "* Convertir esa \"parrilla\" en tensores de flotantes\n",
    "* Re-escalar los valores de los pixels (enre 0 y 255) al intervalo [0, 1] ya que las redes neuronales prefieren trabajar con valores pequeños. \n",
    "\n",
    "Todo esto puede parecer muy complicado pero gracias a Keras nuestra vida es mucho más fácil y podemos contar con tus herramientas para ocuparse de estos pasos automaticamente. Keras tiene un módulo con herramientas para el tratamiento de imágenes, que se puede encontrar en  `keras.preprocessing.image`. En particular, contiene la clase `ImageDataGenerator` que nos permite automaticamente convertir imágenes que tengamos en el disco duro en tensores pre-procesados. Esto es justamente lo que usaremos a continuación. Para ello podemos utilizar el flow_from_directory para coger las imágenes directamente de las carpetas que generamos previamente. Le damos como entrada las carpetas donde están las imágenes de entrenamiento (o validación), el tamaño de las imágenes (target_size), tamaño del batch que vamos a usar (vamos a empezar por 20) y como solo hay dos categorías, le decimos que vamos a usar binary_crossentropy (class_mode). Al correr estos comandos obtendremos lo siguiente el número total de imágenes y cuantas clases hay."
   ]
  },
  {
   "cell_type": "code",
   "execution_count": 6,
   "metadata": {},
   "outputs": [
    {
     "name": "stdout",
     "output_type": "stream",
     "text": [
      "Found 2000 images belonging to 2 classes.\n",
      "Found 1000 images belonging to 2 classes.\n"
     ]
    }
   ],
   "source": [
    "from tensorflow.keras.preprocessing.image import ImageDataGenerator\n",
    "\n",
    "train_datagen = ImageDataGenerator(rescale=1./255)\n",
    "test_datagen = ImageDataGenerator(rescale=1./255)\n",
    " \n",
    "train_generator = train_datagen.flow_from_directory(                 \n",
    "        train_dir,#directorio de destino                 \n",
    "        target_size=(150, 150),# cambia el tamaño de las imágenes a 150x150\n",
    "        batch_size=20,                 \n",
    "        class_mode='binary')\n",
    " \n",
    "validation_generator = test_datagen.flow_from_directory(\n",
    "        validation_dir,\n",
    "        target_size=(150, 150),\n",
    "        batch_size=20,\n",
    "        class_mode='binary')"
   ]
  },
  {
   "cell_type": "markdown",
   "metadata": {},
   "source": [
    "Vamos a echar un vistazo a uno de estos generadores: nos lleva a un batch de 150x150 imágenes RGB (dimensiones `(20, 150, 150, 3)`) y etiquetas binarias (dimensión `(20,)`). 20 es el número de ejemplos en cada batch (lo que llamamos el tamaño del batch). El generador genera estos batches de manera indefinida: corre un bucle sin cesar por todas las imágenes que tengamos en la carpeta. Por eso tenemos que escribir `break` para romper el bucle en algún momento.\n"
   ]
  },
  {
   "cell_type": "code",
   "execution_count": 13,
   "metadata": {},
   "outputs": [
    {
     "name": "stdout",
     "output_type": "stream",
     "text": [
      "data batch shape: (20, 150, 150, 3)\n",
      "labels batch shape: (20,)\n"
     ]
    }
   ],
   "source": [
    "for data_batch, labels_batch in train_generator:\n",
    "    print('data batch shape:', data_batch.shape)\n",
    "    print('labels batch shape:', labels_batch.shape)\n",
    "    break"
   ]
  },
  {
   "cell_type": "markdown",
   "metadata": {},
   "source": [
    "Ahora vamos a hacer el fit. En este caso, como lo que tenemos es un generator, utilizamos fit_generator. Vamos a correr 30 épocas y a utilizar el dataset de validación."
   ]
  },
  {
   "cell_type": "code",
   "execution_count": 14,
   "metadata": {},
   "outputs": [
    {
     "name": "stdout",
     "output_type": "stream",
     "text": [
      "WARNING:tensorflow:From C:\\Users\\Ana\\AppData\\Local\\Temp/ipykernel_29616/3259228942.py:1: Model.fit_generator (from tensorflow.python.keras.engine.training) is deprecated and will be removed in a future version.\n",
      "Instructions for updating:\n",
      "Please use Model.fit, which supports generators.\n",
      "Epoch 1/30\n",
      "100/100 [==============================] - 49s 491ms/step - loss: 0.6897 - acc: 0.5315 - val_loss: 0.6692 - val_acc: 0.6300\n",
      "Epoch 2/30\n",
      "100/100 [==============================] - 43s 431ms/step - loss: 0.6591 - acc: 0.6000 - val_loss: 0.6672 - val_acc: 0.5720\n",
      "Epoch 3/30\n",
      "100/100 [==============================] - 43s 428ms/step - loss: 0.6201 - acc: 0.6525 - val_loss: 0.6289 - val_acc: 0.6190\n",
      "Epoch 4/30\n",
      "100/100 [==============================] - 43s 431ms/step - loss: 0.5715 - acc: 0.6875 - val_loss: 0.5927 - val_acc: 0.6780\n",
      "Epoch 5/30\n",
      "100/100 [==============================] - 43s 429ms/step - loss: 0.5369 - acc: 0.7265 - val_loss: 0.5807 - val_acc: 0.6910\n",
      "Epoch 6/30\n",
      "100/100 [==============================] - 43s 427ms/step - loss: 0.5054 - acc: 0.7445 - val_loss: 0.6101 - val_acc: 0.6740\n",
      "Epoch 7/30\n",
      "100/100 [==============================] - 43s 433ms/step - loss: 0.4848 - acc: 0.7650 - val_loss: 0.5949 - val_acc: 0.6780\n",
      "Epoch 8/30\n",
      "100/100 [==============================] - 43s 434ms/step - loss: 0.4602 - acc: 0.7820 - val_loss: 0.5988 - val_acc: 0.6860\n",
      "Epoch 9/30\n",
      "100/100 [==============================] - 44s 435ms/step - loss: 0.4348 - acc: 0.7940 - val_loss: 0.5814 - val_acc: 0.7110\n",
      "Epoch 10/30\n",
      "100/100 [==============================] - 43s 428ms/step - loss: 0.4000 - acc: 0.8155 - val_loss: 0.6279 - val_acc: 0.7040\n",
      "Epoch 11/30\n",
      "100/100 [==============================] - 43s 435ms/step - loss: 0.3788 - acc: 0.8310 - val_loss: 0.6609 - val_acc: 0.6850\n",
      "Epoch 12/30\n",
      "100/100 [==============================] - 44s 436ms/step - loss: 0.3506 - acc: 0.8455 - val_loss: 0.6398 - val_acc: 0.7080\n",
      "Epoch 13/30\n",
      "100/100 [==============================] - 43s 432ms/step - loss: 0.3321 - acc: 0.8580 - val_loss: 0.7227 - val_acc: 0.7020\n",
      "Epoch 14/30\n",
      "100/100 [==============================] - 43s 429ms/step - loss: 0.3091 - acc: 0.8665 - val_loss: 0.5784 - val_acc: 0.7190\n",
      "Epoch 15/30\n",
      "100/100 [==============================] - 43s 432ms/step - loss: 0.2748 - acc: 0.8920 - val_loss: 0.6959 - val_acc: 0.7170\n",
      "Epoch 16/30\n",
      "100/100 [==============================] - 43s 433ms/step - loss: 0.2585 - acc: 0.8980 - val_loss: 0.5974 - val_acc: 0.7200\n",
      "Epoch 17/30\n",
      "100/100 [==============================] - 43s 430ms/step - loss: 0.2251 - acc: 0.9155 - val_loss: 0.7036 - val_acc: 0.6870\n",
      "Epoch 18/30\n",
      "100/100 [==============================] - 43s 435ms/step - loss: 0.2104 - acc: 0.9200 - val_loss: 0.7214 - val_acc: 0.7090\n",
      "Epoch 19/30\n",
      "100/100 [==============================] - 43s 434ms/step - loss: 0.1887 - acc: 0.9330 - val_loss: 0.6803 - val_acc: 0.7230\n",
      "Epoch 20/30\n",
      "100/100 [==============================] - 44s 437ms/step - loss: 0.1673 - acc: 0.9410 - val_loss: 0.9726 - val_acc: 0.6600\n",
      "Epoch 21/30\n",
      "100/100 [==============================] - 42s 422ms/step - loss: 0.1402 - acc: 0.9500 - val_loss: 0.7426 - val_acc: 0.7260\n",
      "Epoch 22/30\n",
      "100/100 [==============================] - 41s 413ms/step - loss: 0.1317 - acc: 0.9550 - val_loss: 0.8531 - val_acc: 0.7080\n",
      "Epoch 23/30\n",
      "100/100 [==============================] - 42s 416ms/step - loss: 0.1110 - acc: 0.9600 - val_loss: 0.8334 - val_acc: 0.7220\n",
      "Epoch 24/30\n",
      "100/100 [==============================] - 43s 429ms/step - loss: 0.0927 - acc: 0.9710 - val_loss: 0.8139 - val_acc: 0.7230\n",
      "Epoch 25/30\n",
      "100/100 [==============================] - 43s 432ms/step - loss: 0.0804 - acc: 0.9795 - val_loss: 0.8345 - val_acc: 0.7340\n",
      "Epoch 26/30\n",
      "100/100 [==============================] - 43s 435ms/step - loss: 0.0700 - acc: 0.9795 - val_loss: 0.9015 - val_acc: 0.7330\n",
      "Epoch 27/30\n",
      "100/100 [==============================] - 43s 434ms/step - loss: 0.0634 - acc: 0.9815 - val_loss: 0.9697 - val_acc: 0.7130\n",
      "Epoch 28/30\n",
      "100/100 [==============================] - 44s 441ms/step - loss: 0.0545 - acc: 0.9825 - val_loss: 0.9705 - val_acc: 0.7240\n",
      "Epoch 29/30\n",
      "100/100 [==============================] - 46s 459ms/step - loss: 0.0414 - acc: 0.9910 - val_loss: 1.1043 - val_acc: 0.7070\n",
      "Epoch 30/30\n",
      "100/100 [==============================] - 47s 466ms/step - loss: 0.0448 - acc: 0.9850 - val_loss: 1.0604 - val_acc: 0.7260\n"
     ]
    }
   ],
   "source": [
    "history = model.fit_generator(\n",
    "      train_generator,\n",
    "      steps_per_epoch=100,\n",
    "      epochs=30,\n",
    "      validation_data=validation_generator,\n",
    "      validation_steps=50)"
   ]
  },
  {
   "cell_type": "markdown",
   "metadata": {
    "collapsed": true
   },
   "source": [
    "Es una buena idea guardar el modelo después de entrenar:"
   ]
  },
  {
   "cell_type": "code",
   "execution_count": 15,
   "metadata": {},
   "outputs": [],
   "source": [
    "model.save('cats_dogs.h5')"
   ]
  },
  {
   "cell_type": "code",
   "execution_count": 16,
   "metadata": {},
   "outputs": [],
   "source": [
    "new_model = keras.models.load_model('cats_dogs.h5')"
   ]
  },
  {
   "cell_type": "markdown",
   "metadata": {},
   "source": [
    "Ahora evalua el modelo en el dataset de test."
   ]
  },
  {
   "cell_type": "code",
   "execution_count": 19,
   "metadata": {},
   "outputs": [
    {
     "name": "stdout",
     "output_type": "stream",
     "text": [
      "Found 1000 images belonging to 2 classes.\n",
      "50/50 [==============================] - 9s 189ms/step - loss: 1.0336 - acc: 0.7240\n"
     ]
    },
    {
     "data": {
      "text/plain": [
       "[1.0336264371871948, 0.7239999771118164]"
      ]
     },
     "execution_count": 19,
     "metadata": {},
     "output_type": "execute_result"
    }
   ],
   "source": [
    "#Evaluamos el modelo en el conjunto de test:\n",
    "test_generator = test_datagen.flow_from_directory(\n",
    "        test_dir,\n",
    "        target_size=(150, 150),\n",
    "        batch_size=20,\n",
    "        class_mode='binary')\n",
    "\n",
    "model.evaluate(test_generator)"
   ]
  },
  {
   "cell_type": "code",
   "execution_count": 26,
   "metadata": {},
   "outputs": [],
   "source": [
    "def plot(history):\n",
    "    acc = history.history['acc']\n",
    "    val_acc = history.history['val_acc']\n",
    "    loss = history.history['loss']\n",
    "    val_loss = history.history['val_loss']\n",
    "\n",
    "    epochs = range(len(acc))\n",
    "\n",
    "    plt.plot(epochs, acc, 'b', label='training')\n",
    "    plt.plot(epochs, val_acc, 'g', label='validation')\n",
    "    plt.title('Accuracy')\n",
    "    plt.legend()\n",
    "\n",
    "    plt.figure()\n",
    "\n",
    "    plt.plot(epochs, loss, 'b', label='Training')\n",
    "    plt.plot(epochs, val_loss, 'g', label='Validation')\n",
    "    plt.title('Loss')\n",
    "    plt.legend()\n",
    "\n",
    "    plt.show()"
   ]
  },
  {
   "cell_type": "code",
   "execution_count": 34,
   "metadata": {},
   "outputs": [
    {
     "data": {
      "image/png": "[encoded data removed]",
      "text/plain": [
       "<Figure size 432x288 with 1 Axes>"
      ]
     },
     "metadata": {
      "needs_background": "light"
     },
     "output_type": "display_data"
    },
    {
     "data": {
      "image/png": "[encoded data removed]",
      "text/plain": [
       "<Figure size 432x288 with 1 Axes>"
      ]
     },
     "metadata": {
      "needs_background": "light"
     },
     "output_type": "display_data"
    }
   ],
   "source": [
    "plot(history)"
   ]
  },
  {
   "cell_type": "markdown",
   "metadata": {},
   "source": [
    "`El error en el set de training disminuye hata valores muy bajos ~0, pero en el conjunto de validación aumenta, por lo tanto el modelo está sobre ajustando los datos.`"
   ]
  },
  {
   "cell_type": "markdown",
   "metadata": {},
   "source": [
    "Prueba a optimizar la red. Para ello puedes utilizar las herramientas utilizadas en clase. Puedes probar a optimizar en términos de velocidad y de accuracy. Comenta los resultados."
   ]
  },
  {
   "cell_type": "markdown",
   "metadata": {},
   "source": [
    "## Agregando drop out\n",
    "\n",
    "Vamos a agregar un drop out del 50% a las neuronas de la capa densa para solucionar el problema de sobre ajuste del modelo."
   ]
  },
  {
   "cell_type": "code",
   "execution_count": 43,
   "metadata": {},
   "outputs": [],
   "source": [
    "#Drop Out\n",
    "model_DO = models.Sequential()\n",
    "model_DO.add(layers.Conv2D(32, (3, 3), activation='relu',\n",
    "                        input_shape=(150, 150, 3)))\n",
    "model_DO.add(layers.MaxPooling2D((2, 2)))\n",
    "model_DO.add(layers.Conv2D(64, (3, 3), activation='relu'))\n",
    "model_DO.add(layers.MaxPooling2D((2, 2)))\n",
    "model_DO.add(layers.Conv2D(128, (3, 3), activation='relu'))\n",
    "model_DO.add(layers.MaxPooling2D((2, 2)))\n",
    "model_DO.add(layers.Conv2D(128, (3, 3), activation='relu'))\n",
    "model_DO.add(layers.MaxPooling2D((2, 2)))\n",
    "\n",
    "model_DO.add(layers.Flatten())\n",
    "model_DO.add(layers.Dropout(0.5))\n",
    "model_DO.add(layers.Dense(512, activation='relu'))\n",
    "model_DO.add(layers.Dense(1, activation='sigmoid'))\n",
    " "
   ]
  },
  {
   "cell_type": "code",
   "execution_count": 22,
   "metadata": {},
   "outputs": [],
   "source": [
    "model_DO.compile(loss='binary_crossentropy',\n",
    "              optimizer=optimizers.RMSprop(lr=1e-4),\n",
    "              metrics=['acc'])"
   ]
  },
  {
   "cell_type": "code",
   "execution_count": 23,
   "metadata": {},
   "outputs": [
    {
     "name": "stdout",
     "output_type": "stream",
     "text": [
      "Epoch 1/30\n",
      "100/100 [==============================] - 49s 491ms/step - loss: 0.6926 - acc: 0.5175 - val_loss: 0.6808 - val_acc: 0.5750\n",
      "Epoch 2/30\n",
      "100/100 [==============================] - 43s 428ms/step - loss: 0.6751 - acc: 0.5725 - val_loss: 0.6680 - val_acc: 0.5660\n",
      "Epoch 3/30\n",
      "100/100 [==============================] - 43s 430ms/step - loss: 0.6467 - acc: 0.6150 - val_loss: 0.6748 - val_acc: 0.5740\n",
      "Epoch 4/30\n",
      "100/100 [==============================] - 43s 430ms/step - loss: 0.6161 - acc: 0.6630 - val_loss: 0.6314 - val_acc: 0.6230\n",
      "Epoch 5/30\n",
      "100/100 [==============================] - 43s 431ms/step - loss: 0.5804 - acc: 0.6995 - val_loss: 0.6054 - val_acc: 0.6510\n",
      "Epoch 6/30\n",
      "100/100 [==============================] - 43s 429ms/step - loss: 0.5513 - acc: 0.7170 - val_loss: 0.5914 - val_acc: 0.6790\n",
      "Epoch 7/30\n",
      "100/100 [==============================] - 44s 435ms/step - loss: 0.5340 - acc: 0.7240 - val_loss: 0.6192 - val_acc: 0.6670\n",
      "Epoch 8/30\n",
      "100/100 [==============================] - 43s 430ms/step - loss: 0.5166 - acc: 0.7360 - val_loss: 0.5627 - val_acc: 0.6960\n",
      "Epoch 9/30\n",
      "100/100 [==============================] - 43s 428ms/step - loss: 0.5005 - acc: 0.7525 - val_loss: 0.5749 - val_acc: 0.6970\n",
      "Epoch 10/30\n",
      "100/100 [==============================] - 42s 423ms/step - loss: 0.4770 - acc: 0.7595 - val_loss: 0.5664 - val_acc: 0.7090\n",
      "Epoch 11/30\n",
      "100/100 [==============================] - 42s 424ms/step - loss: 0.4528 - acc: 0.7935 - val_loss: 0.6032 - val_acc: 0.6960\n",
      "Epoch 12/30\n",
      "100/100 [==============================] - 43s 430ms/step - loss: 0.4438 - acc: 0.7875 - val_loss: 0.5616 - val_acc: 0.7160\n",
      "Epoch 13/30\n",
      "100/100 [==============================] - 43s 431ms/step - loss: 0.4139 - acc: 0.8090 - val_loss: 0.5442 - val_acc: 0.7270\n",
      "Epoch 14/30\n",
      "100/100 [==============================] - 44s 437ms/step - loss: 0.4029 - acc: 0.8175 - val_loss: 0.5631 - val_acc: 0.7250\n",
      "Epoch 15/30\n",
      "100/100 [==============================] - 44s 439ms/step - loss: 0.3975 - acc: 0.8170 - val_loss: 0.6047 - val_acc: 0.7210\n",
      "Epoch 16/30\n",
      "100/100 [==============================] - 44s 437ms/step - loss: 0.3733 - acc: 0.8380 - val_loss: 0.5724 - val_acc: 0.7200\n",
      "Epoch 17/30\n",
      "100/100 [==============================] - 43s 434ms/step - loss: 0.3602 - acc: 0.8435 - val_loss: 0.5597 - val_acc: 0.7250\n",
      "Epoch 18/30\n",
      "100/100 [==============================] - 43s 433ms/step - loss: 0.3475 - acc: 0.8500 - val_loss: 0.5253 - val_acc: 0.7540\n",
      "Epoch 19/30\n",
      "100/100 [==============================] - 43s 432ms/step - loss: 0.3227 - acc: 0.8625 - val_loss: 0.5519 - val_acc: 0.7410\n",
      "Epoch 20/30\n",
      "100/100 [==============================] - 43s 430ms/step - loss: 0.3151 - acc: 0.8580 - val_loss: 0.5826 - val_acc: 0.7270\n",
      "Epoch 21/30\n",
      "100/100 [==============================] - 44s 437ms/step - loss: 0.3071 - acc: 0.8715 - val_loss: 0.5542 - val_acc: 0.7360\n",
      "Epoch 22/30\n",
      "100/100 [==============================] - 43s 432ms/step - loss: 0.2898 - acc: 0.8720 - val_loss: 0.5442 - val_acc: 0.7440\n",
      "Epoch 23/30\n",
      "100/100 [==============================] - 43s 429ms/step - loss: 0.2727 - acc: 0.8800 - val_loss: 0.6680 - val_acc: 0.7360\n",
      "Epoch 24/30\n",
      "100/100 [==============================] - 43s 433ms/step - loss: 0.2607 - acc: 0.8965 - val_loss: 0.5814 - val_acc: 0.7350\n",
      "Epoch 25/30\n",
      "100/100 [==============================] - 44s 436ms/step - loss: 0.2487 - acc: 0.8940 - val_loss: 0.5473 - val_acc: 0.7540\n",
      "Epoch 26/30\n",
      "100/100 [==============================] - 43s 431ms/step - loss: 0.2359 - acc: 0.9035 - val_loss: 0.5863 - val_acc: 0.7500\n",
      "Epoch 27/30\n",
      "100/100 [==============================] - 44s 440ms/step - loss: 0.2178 - acc: 0.9095 - val_loss: 0.7243 - val_acc: 0.7260\n",
      "Epoch 28/30\n",
      "100/100 [==============================] - 43s 431ms/step - loss: 0.2036 - acc: 0.9175 - val_loss: 0.5627 - val_acc: 0.7660\n",
      "Epoch 29/30\n",
      "100/100 [==============================] - 43s 428ms/step - loss: 0.2153 - acc: 0.9140 - val_loss: 0.5817 - val_acc: 0.7570\n",
      "Epoch 30/30\n",
      "100/100 [==============================] - 43s 426ms/step - loss: 0.1897 - acc: 0.9265 - val_loss: 0.5757 - val_acc: 0.7640\n"
     ]
    }
   ],
   "source": [
    "history_DO = model_DO.fit_generator(\n",
    "      train_generator,\n",
    "      steps_per_epoch=100,\n",
    "      epochs=30,\n",
    "      validation_data=validation_generator,\n",
    "      validation_steps=50)"
   ]
  },
  {
   "cell_type": "code",
   "execution_count": 30,
   "metadata": {},
   "outputs": [],
   "source": [
    "#model_DO.save('cats_dogs_DO.h5')"
   ]
  },
  {
   "cell_type": "code",
   "execution_count": 35,
   "metadata": {},
   "outputs": [
    {
     "data": {
      "image/png": "[encoded data removed]",
      "text/plain": [
       "<Figure size 432x288 with 1 Axes>"
      ]
     },
     "metadata": {
      "needs_background": "light"
     },
     "output_type": "display_data"
    },
    {
     "data": {
      "image/png": "[encoded data removed]",
      "text/plain": [
       "<Figure size 432x288 with 1 Axes>"
      ]
     },
     "metadata": {
      "needs_background": "light"
     },
     "output_type": "display_data"
    }
   ],
   "source": [
    "plot(history_DO)"
   ]
  },
  {
   "cell_type": "markdown",
   "metadata": {},
   "source": [
    "`En este caso podemos apreciar que el \"accuracy\" del modelo en el conjunto de validación ha subido un poco, pero si miramos la gráfica del error, podemos observar que el modelo todavía sobreajusta los datos.`"
   ]
  },
  {
   "cell_type": "code",
   "execution_count": 25,
   "metadata": {},
   "outputs": [
    {
     "name": "stdout",
     "output_type": "stream",
     "text": [
      "50/50 [==============================] - 5s 97ms/step - loss: 0.6184 - acc: 0.7520\n"
     ]
    }
   ],
   "source": [
    "#Evaluamos el modelo en el conjunto de test:\n",
    "test_loss, test_acc = model_DO.evaluate(test_generator)"
   ]
  },
  {
   "cell_type": "markdown",
   "metadata": {},
   "source": [
    "`La performance en el conjunto de test ha mejorado un poco`"
   ]
  },
  {
   "cell_type": "markdown",
   "metadata": {},
   "source": [
    "## Drop Out y aumento de datos\n",
    "\n",
    "Volveré a considerar el modelo pero con un aumento de datos, es decir rotaciones de 0 a 40º, desplazamientos horizontales y verticales, deformaciones diagonales, zooms, etc... "
   ]
  },
  {
   "cell_type": "code",
   "execution_count": 15,
   "metadata": {},
   "outputs": [],
   "source": [
    "#Drop Out y aumento de datos\n",
    "model_AD = models.Sequential()\n",
    "model_AD.add(layers.Conv2D(32, (3, 3), activation='relu',\n",
    "                        input_shape=(150, 150, 3)))\n",
    "model_AD.add(layers.MaxPooling2D((2, 2)))\n",
    "model_AD.add(layers.Conv2D(64, (3, 3), activation='relu'))\n",
    "model_AD.add(layers.MaxPooling2D((2, 2)))\n",
    "model_AD.add(layers.Conv2D(128, (3, 3), activation='relu'))\n",
    "model_AD.add(layers.MaxPooling2D((2, 2)))\n",
    "model_AD.add(layers.Conv2D(128, (3, 3), activation='relu'))\n",
    "model_AD.add(layers.MaxPooling2D((2, 2)))\n",
    "\n",
    "model_AD.add(layers.Flatten())\n",
    "model_AD.add(layers.Dropout(0.5))\n",
    "model_AD.add(layers.Dense(512, activation='relu'))\n",
    "model_AD.add(layers.Dense(1, activation='sigmoid'))\n",
    " "
   ]
  },
  {
   "cell_type": "code",
   "execution_count": 16,
   "metadata": {},
   "outputs": [],
   "source": [
    "model_AD.compile(loss='binary_crossentropy',\n",
    "              optimizer=optimizers.RMSprop(lr=1e-4),\n",
    "              metrics=['acc'])"
   ]
  },
  {
   "cell_type": "code",
   "execution_count": 17,
   "metadata": {},
   "outputs": [
    {
     "name": "stdout",
     "output_type": "stream",
     "text": [
      "Found 2000 images belonging to 2 classes.\n",
      "Found 1000 images belonging to 2 classes.\n",
      "Found 1000 images belonging to 2 classes.\n"
     ]
    }
   ],
   "source": [
    "train_datagen_AD = ImageDataGenerator(rescale=1./255,\n",
    "                                  rotation_range=40, #rango de rotación aleatoria de imágenes (0-40)\n",
    "                                  width_shift_range=0.2, #rango de traslacion aleatoria horizonal (0-0.2*width)\n",
    "                                  height_shift_range=0.2, #rango de traslacion aleatoria vertical (0-0.2*width)\n",
    "                                  shear_range=0.2, #rango de ángulos de corte aleatorios  (0-0.2)\n",
    "                                  zoom_range=0.2, #rango de aumento de imágenes (0-0.2%)\n",
    "                                  horizontal_flip=True,) #se voltea aleatoriamente la mitad de las imágenes\n",
    "\n",
    "test_datagen_AD = ImageDataGenerator(rescale=1./255)\n",
    " \n",
    "train_generator_AD = train_datagen_AD.flow_from_directory(\n",
    "        train_dir,\n",
    "        target_size=(150, 150),\n",
    "        batch_size=20,\n",
    "        class_mode='binary')\n",
    " \n",
    "validation_generator_AD = test_datagen_AD.flow_from_directory(\n",
    "        validation_dir,\n",
    "        target_size=(150, 150),\n",
    "        batch_size=20,\n",
    "        class_mode='binary')\n",
    "\n",
    "test_generator_AD = test_datagen_AD.flow_from_directory(\n",
    "        test_dir,\n",
    "        target_size=(150, 150),\n",
    "        batch_size=20,\n",
    "    \n",
    "    \n",
    "        class_mode='binary')"
   ]
  },
  {
   "cell_type": "code",
   "execution_count": 18,
   "metadata": {},
   "outputs": [],
   "source": [
    "from tensorflow.keras.callbacks import TensorBoard"
   ]
  },
  {
   "cell_type": "code",
   "execution_count": 23,
   "metadata": {},
   "outputs": [
    {
     "name": "stdout",
     "output_type": "stream",
     "text": [
      "Epoch 1/100\n",
      "100/100 [==============================] - 78s 784ms/step - loss: 0.6916 - acc: 0.5170 - val_loss: 0.6890 - val_acc: 0.5360\n",
      "Epoch 2/100\n",
      "100/100 [==============================] - 76s 761ms/step - loss: 0.6883 - acc: 0.5440 - val_loss: 0.6941 - val_acc: 0.5230\n",
      "Epoch 3/100\n",
      "100/100 [==============================] - 76s 755ms/step - loss: 0.6800 - acc: 0.5675 - val_loss: 0.6581 - val_acc: 0.6140\n",
      "Epoch 4/100\n",
      "100/100 [==============================] - 75s 747ms/step - loss: 0.6672 - acc: 0.5900 - val_loss: 0.6405 - val_acc: 0.6160\n",
      "Epoch 5/100\n",
      "100/100 [==============================] - 75s 750ms/step - loss: 0.6586 - acc: 0.5945 - val_loss: 0.6265 - val_acc: 0.6450\n",
      "Epoch 6/100\n",
      "100/100 [==============================] - 73s 731ms/step - loss: 0.6564 - acc: 0.6030 - val_loss: 0.7439 - val_acc: 0.5310\n",
      "Epoch 7/100\n",
      "100/100 [==============================] - 75s 751ms/step - loss: 0.6486 - acc: 0.6180 - val_loss: 0.6239 - val_acc: 0.6430\n",
      "Epoch 8/100\n",
      "100/100 [==============================] - 75s 747ms/step - loss: 0.6362 - acc: 0.6435 - val_loss: 0.6732 - val_acc: 0.5940\n",
      "Epoch 9/100\n",
      "100/100 [==============================] - 78s 781ms/step - loss: 0.6155 - acc: 0.6525 - val_loss: 0.5837 - val_acc: 0.6890\n",
      "Epoch 10/100\n",
      "100/100 [==============================] - 73s 731ms/step - loss: 0.6111 - acc: 0.6625 - val_loss: 0.5666 - val_acc: 0.6980\n",
      "Epoch 11/100\n",
      "100/100 [==============================] - 79s 791ms/step - loss: 0.5986 - acc: 0.6675 - val_loss: 0.5582 - val_acc: 0.7060\n",
      "Epoch 12/100\n",
      "100/100 [==============================] - 108s 1s/step - loss: 0.5993 - acc: 0.6740 - val_loss: 0.5737 - val_acc: 0.6900\n",
      "Epoch 13/100\n",
      "100/100 [==============================] - 107s 1s/step - loss: 0.5896 - acc: 0.6915 - val_loss: 0.5951 - val_acc: 0.6740\n",
      "Epoch 14/100\n",
      "100/100 [==============================] - 107s 1s/step - loss: 0.5839 - acc: 0.6910 - val_loss: 0.7022 - val_acc: 0.6220\n",
      "Epoch 15/100\n",
      "100/100 [==============================] - 109s 1s/step - loss: 0.5741 - acc: 0.6910 - val_loss: 0.6571 - val_acc: 0.6650\n",
      "Epoch 16/100\n",
      "100/100 [==============================] - 109s 1s/step - loss: 0.5721 - acc: 0.6815 - val_loss: 0.5344 - val_acc: 0.7290\n",
      "Epoch 17/100\n",
      "100/100 [==============================] - 112s 1s/step - loss: 0.5663 - acc: 0.7045 - val_loss: 0.5523 - val_acc: 0.7020\n",
      "Epoch 18/100\n",
      "100/100 [==============================] - 111s 1s/step - loss: 0.5608 - acc: 0.7110 - val_loss: 0.5333 - val_acc: 0.7290\n",
      "Epoch 19/100\n",
      "100/100 [==============================] - 110s 1s/step - loss: 0.5687 - acc: 0.7050 - val_loss: 0.5499 - val_acc: 0.7110\n",
      "Epoch 20/100\n",
      "100/100 [==============================] - 110s 1s/step - loss: 0.5386 - acc: 0.7245 - val_loss: 0.5653 - val_acc: 0.7070\n",
      "Epoch 21/100\n",
      "100/100 [==============================] - 110s 1s/step - loss: 0.5494 - acc: 0.7200 - val_loss: 0.5125 - val_acc: 0.7420\n",
      "Epoch 22/100\n",
      "100/100 [==============================] - 107s 1s/step - loss: 0.5403 - acc: 0.7350 - val_loss: 0.5126 - val_acc: 0.7480\n",
      "Epoch 23/100\n",
      "100/100 [==============================] - 108s 1s/step - loss: 0.5369 - acc: 0.7250 - val_loss: 0.5009 - val_acc: 0.7470\n",
      "Epoch 24/100\n",
      "100/100 [==============================] - 110s 1s/step - loss: 0.5402 - acc: 0.7235 - val_loss: 0.5168 - val_acc: 0.7370\n",
      "Epoch 25/100\n",
      "100/100 [==============================] - 110s 1s/step - loss: 0.5438 - acc: 0.7295 - val_loss: 0.5179 - val_acc: 0.7350\n",
      "Epoch 26/100\n",
      "100/100 [==============================] - 108s 1s/step - loss: 0.5359 - acc: 0.7280 - val_loss: 0.5427 - val_acc: 0.7320\n",
      "Epoch 27/100\n",
      "100/100 [==============================] - 109s 1s/step - loss: 0.5247 - acc: 0.7500 - val_loss: 0.5068 - val_acc: 0.7500\n",
      "Epoch 28/100\n",
      "100/100 [==============================] - 108s 1s/step - loss: 0.5262 - acc: 0.7380 - val_loss: 0.5336 - val_acc: 0.7140\n",
      "Epoch 29/100\n",
      "100/100 [==============================] - 108s 1s/step - loss: 0.5039 - acc: 0.7585 - val_loss: 0.5022 - val_acc: 0.7520\n",
      "Epoch 30/100\n",
      "100/100 [==============================] - 108s 1s/step - loss: 0.5116 - acc: 0.7400 - val_loss: 0.4953 - val_acc: 0.7470\n",
      "Epoch 31/100\n",
      "100/100 [==============================] - 109s 1s/step - loss: 0.5162 - acc: 0.7415 - val_loss: 0.4916 - val_acc: 0.7570\n",
      "Epoch 32/100\n",
      "100/100 [==============================] - 107s 1s/step - loss: 0.5059 - acc: 0.7490 - val_loss: 0.5369 - val_acc: 0.7220\n",
      "Epoch 33/100\n",
      "100/100 [==============================] - 110s 1s/step - loss: 0.5092 - acc: 0.7385 - val_loss: 0.4916 - val_acc: 0.7570\n",
      "Epoch 34/100\n",
      "100/100 [==============================] - 108s 1s/step - loss: 0.5069 - acc: 0.7490 - val_loss: 0.4612 - val_acc: 0.7760\n",
      "Epoch 35/100\n",
      "100/100 [==============================] - 108s 1s/step - loss: 0.5005 - acc: 0.7540 - val_loss: 0.5388 - val_acc: 0.7310\n",
      "Epoch 36/100\n",
      "100/100 [==============================] - 108s 1s/step - loss: 0.4965 - acc: 0.7520 - val_loss: 0.4574 - val_acc: 0.7760\n",
      "Epoch 37/100\n",
      "100/100 [==============================] - 109s 1s/step - loss: 0.4914 - acc: 0.7555 - val_loss: 0.5086 - val_acc: 0.7480\n",
      "Epoch 38/100\n",
      "100/100 [==============================] - 108s 1s/step - loss: 0.4893 - acc: 0.7720 - val_loss: 0.5075 - val_acc: 0.7490\n",
      "Epoch 39/100\n",
      "100/100 [==============================] - 110s 1s/step - loss: 0.4955 - acc: 0.7565 - val_loss: 0.4827 - val_acc: 0.7620\n",
      "Epoch 40/100\n",
      "100/100 [==============================] - 109s 1s/step - loss: 0.4921 - acc: 0.7625 - val_loss: 0.5104 - val_acc: 0.7510\n",
      "Epoch 41/100\n",
      "100/100 [==============================] - 108s 1s/step - loss: 0.4892 - acc: 0.7675 - val_loss: 0.4607 - val_acc: 0.7760\n",
      "Epoch 42/100\n",
      "100/100 [==============================] - 109s 1s/step - loss: 0.4839 - acc: 0.7625 - val_loss: 0.4689 - val_acc: 0.7830\n",
      "Epoch 43/100\n",
      "100/100 [==============================] - 108s 1s/step - loss: 0.4692 - acc: 0.7675 - val_loss: 0.5352 - val_acc: 0.7320\n",
      "Epoch 44/100\n",
      "100/100 [==============================] - 108s 1s/step - loss: 0.4864 - acc: 0.7640 - val_loss: 0.5661 - val_acc: 0.7130\n",
      "Epoch 45/100\n",
      "100/100 [==============================] - 109s 1s/step - loss: 0.4951 - acc: 0.7590 - val_loss: 0.4393 - val_acc: 0.7950\n",
      "Epoch 46/100\n",
      "100/100 [==============================] - 109s 1s/step - loss: 0.4812 - acc: 0.7715 - val_loss: 0.4698 - val_acc: 0.7700\n",
      "Epoch 47/100\n",
      "100/100 [==============================] - 108s 1s/step - loss: 0.4720 - acc: 0.7770 - val_loss: 0.5442 - val_acc: 0.7370\n",
      "Epoch 48/100\n",
      "100/100 [==============================] - 75s 749ms/step - loss: 0.4626 - acc: 0.7775 - val_loss: 0.4527 - val_acc: 0.7650\n",
      "Epoch 49/100\n",
      "100/100 [==============================] - 73s 732ms/step - loss: 0.4804 - acc: 0.7705 - val_loss: 0.4710 - val_acc: 0.7600\n",
      "Epoch 50/100\n",
      "100/100 [==============================] - 76s 758ms/step - loss: 0.4610 - acc: 0.7795 - val_loss: 0.4742 - val_acc: 0.7660\n",
      "Epoch 51/100\n",
      "100/100 [==============================] - 76s 758ms/step - loss: 0.4434 - acc: 0.7920 - val_loss: 0.4753 - val_acc: 0.7890\n",
      "Epoch 52/100\n",
      "100/100 [==============================] - 75s 745ms/step - loss: 0.4598 - acc: 0.7930 - val_loss: 0.4555 - val_acc: 0.7810\n",
      "Epoch 53/100\n",
      "100/100 [==============================] - 75s 752ms/step - loss: 0.4490 - acc: 0.7990 - val_loss: 0.4561 - val_acc: 0.7800\n",
      "Epoch 54/100\n",
      "100/100 [==============================] - 74s 741ms/step - loss: 0.4647 - acc: 0.7780 - val_loss: 0.5313 - val_acc: 0.7550\n",
      "Epoch 55/100\n",
      "100/100 [==============================] - 74s 741ms/step - loss: 0.4570 - acc: 0.7815 - val_loss: 0.4682 - val_acc: 0.7740\n",
      "Epoch 56/100\n",
      "100/100 [==============================] - 75s 749ms/step - loss: 0.4595 - acc: 0.7860 - val_loss: 0.4344 - val_acc: 0.7850\n",
      "Epoch 57/100\n",
      "100/100 [==============================] - 74s 736ms/step - loss: 0.4640 - acc: 0.7790 - val_loss: 0.4371 - val_acc: 0.7940\n",
      "Epoch 58/100\n",
      "100/100 [==============================] - 74s 742ms/step - loss: 0.4344 - acc: 0.8000 - val_loss: 0.4425 - val_acc: 0.7920\n",
      "Epoch 59/100\n",
      "100/100 [==============================] - 74s 742ms/step - loss: 0.4419 - acc: 0.7980 - val_loss: 0.4258 - val_acc: 0.8080\n",
      "Epoch 60/100\n",
      "100/100 [==============================] - 75s 752ms/step - loss: 0.4503 - acc: 0.7880 - val_loss: 0.5365 - val_acc: 0.7470\n",
      "Epoch 61/100\n",
      "100/100 [==============================] - 76s 764ms/step - loss: 0.4403 - acc: 0.7900 - val_loss: 0.4326 - val_acc: 0.7950\n",
      "Epoch 62/100\n",
      "100/100 [==============================] - 76s 763ms/step - loss: 0.4341 - acc: 0.7995 - val_loss: 0.4480 - val_acc: 0.7870\n",
      "Epoch 63/100\n",
      "100/100 [==============================] - 76s 758ms/step - loss: 0.4391 - acc: 0.7985 - val_loss: 0.4426 - val_acc: 0.7910\n",
      "Epoch 64/100\n",
      "100/100 [==============================] - 74s 740ms/step - loss: 0.4533 - acc: 0.7915 - val_loss: 0.4519 - val_acc: 0.7920\n",
      "Epoch 65/100\n",
      "100/100 [==============================] - 75s 753ms/step - loss: 0.4169 - acc: 0.8055 - val_loss: 0.4499 - val_acc: 0.8160\n",
      "Epoch 66/100\n",
      "100/100 [==============================] - 76s 757ms/step - loss: 0.4266 - acc: 0.8010 - val_loss: 0.4634 - val_acc: 0.7850\n",
      "Epoch 67/100\n",
      "100/100 [==============================] - 75s 755ms/step - loss: 0.4216 - acc: 0.8070 - val_loss: 0.4445 - val_acc: 0.7830\n",
      "Epoch 68/100\n",
      "100/100 [==============================] - 74s 745ms/step - loss: 0.4269 - acc: 0.8035 - val_loss: 0.4146 - val_acc: 0.8150\n",
      "Epoch 69/100\n",
      "100/100 [==============================] - 75s 746ms/step - loss: 0.4499 - acc: 0.8010 - val_loss: 0.4580 - val_acc: 0.7940\n",
      "Epoch 70/100\n",
      "100/100 [==============================] - 75s 750ms/step - loss: 0.4240 - acc: 0.7950 - val_loss: 0.4427 - val_acc: 0.7870\n",
      "Epoch 71/100\n",
      "100/100 [==============================] - 74s 742ms/step - loss: 0.4240 - acc: 0.7990 - val_loss: 0.4494 - val_acc: 0.7950\n",
      "Epoch 72/100\n",
      "100/100 [==============================] - 75s 746ms/step - loss: 0.4172 - acc: 0.8070 - val_loss: 0.4356 - val_acc: 0.7970\n",
      "Epoch 73/100\n",
      "100/100 [==============================] - 74s 738ms/step - loss: 0.4159 - acc: 0.8050 - val_loss: 0.4089 - val_acc: 0.8220\n",
      "Epoch 74/100\n",
      "100/100 [==============================] - 74s 742ms/step - loss: 0.4086 - acc: 0.8120 - val_loss: 0.4058 - val_acc: 0.8100\n",
      "Epoch 75/100\n",
      "100/100 [==============================] - 75s 747ms/step - loss: 0.4289 - acc: 0.8000 - val_loss: 0.5568 - val_acc: 0.7560\n",
      "Epoch 76/100\n",
      "100/100 [==============================] - 74s 743ms/step - loss: 0.4243 - acc: 0.8160 - val_loss: 0.4194 - val_acc: 0.8150\n",
      "Epoch 77/100\n",
      "100/100 [==============================] - 75s 752ms/step - loss: 0.4140 - acc: 0.8090 - val_loss: 0.4066 - val_acc: 0.8210\n",
      "Epoch 78/100\n",
      "100/100 [==============================] - 75s 754ms/step - loss: 0.4014 - acc: 0.8105 - val_loss: 0.4109 - val_acc: 0.8130\n",
      "Epoch 79/100\n",
      "100/100 [==============================] - 79s 788ms/step - loss: 0.3954 - acc: 0.8215 - val_loss: 0.3995 - val_acc: 0.8230\n",
      "Epoch 80/100\n",
      "100/100 [==============================] - 74s 743ms/step - loss: 0.4014 - acc: 0.8195 - val_loss: 0.4064 - val_acc: 0.8270\n",
      "Epoch 81/100\n",
      "100/100 [==============================] - 74s 744ms/step - loss: 0.4081 - acc: 0.8095 - val_loss: 0.3990 - val_acc: 0.8180\n",
      "Epoch 82/100\n",
      "100/100 [==============================] - 75s 747ms/step - loss: 0.4035 - acc: 0.8275 - val_loss: 0.4264 - val_acc: 0.8120\n",
      "Epoch 83/100\n",
      "100/100 [==============================] - 77s 769ms/step - loss: 0.3976 - acc: 0.8185 - val_loss: 0.4344 - val_acc: 0.8100\n",
      "Epoch 84/100\n",
      "100/100 [==============================] - 79s 791ms/step - loss: 0.3999 - acc: 0.8175 - val_loss: 0.4750 - val_acc: 0.7960\n",
      "Epoch 85/100\n",
      "100/100 [==============================] - 78s 779ms/step - loss: 0.4203 - acc: 0.8075 - val_loss: 0.4217 - val_acc: 0.8190\n",
      "Epoch 86/100\n",
      "100/100 [==============================] - 77s 766ms/step - loss: 0.3960 - acc: 0.8270 - val_loss: 0.4065 - val_acc: 0.8220\n",
      "Epoch 87/100\n",
      "100/100 [==============================] - 76s 759ms/step - loss: 0.4068 - acc: 0.8065 - val_loss: 0.4148 - val_acc: 0.8110\n",
      "Epoch 88/100\n",
      "100/100 [==============================] - 73s 734ms/step - loss: 0.3863 - acc: 0.8280 - val_loss: 0.3762 - val_acc: 0.8520\n",
      "Epoch 89/100\n",
      "100/100 [==============================] - 73s 734ms/step - loss: 0.3875 - acc: 0.8300 - val_loss: 0.4295 - val_acc: 0.8080\n",
      "Epoch 90/100\n",
      "100/100 [==============================] - 73s 733ms/step - loss: 0.3777 - acc: 0.8330 - val_loss: 0.3967 - val_acc: 0.8290\n",
      "Epoch 91/100\n",
      "100/100 [==============================] - 74s 743ms/step - loss: 0.3896 - acc: 0.8130 - val_loss: 0.4167 - val_acc: 0.8130\n",
      "Epoch 92/100\n",
      "100/100 [==============================] - 73s 732ms/step - loss: 0.3705 - acc: 0.8380 - val_loss: 0.3892 - val_acc: 0.8420\n",
      "Epoch 93/100\n",
      "100/100 [==============================] - 73s 734ms/step - loss: 0.3862 - acc: 0.8240 - val_loss: 0.4426 - val_acc: 0.8050\n",
      "Epoch 94/100\n",
      "100/100 [==============================] - 73s 727ms/step - loss: 0.3776 - acc: 0.8390 - val_loss: 0.4403 - val_acc: 0.8180\n",
      "Epoch 95/100\n",
      "100/100 [==============================] - 73s 733ms/step - loss: 0.3894 - acc: 0.8280 - val_loss: 0.3794 - val_acc: 0.8460\n",
      "Epoch 96/100\n",
      "100/100 [==============================] - 74s 740ms/step - loss: 0.3711 - acc: 0.8325 - val_loss: 0.4095 - val_acc: 0.7990\n",
      "Epoch 97/100\n",
      "100/100 [==============================] - 74s 736ms/step - loss: 0.3775 - acc: 0.8335 - val_loss: 0.4160 - val_acc: 0.8220\n",
      "Epoch 98/100\n",
      "100/100 [==============================] - 73s 732ms/step - loss: 0.3748 - acc: 0.8390 - val_loss: 0.4323 - val_acc: 0.8190\n",
      "Epoch 99/100\n",
      "100/100 [==============================] - 74s 737ms/step - loss: 0.3763 - acc: 0.8310 - val_loss: 0.4163 - val_acc: 0.8250\n",
      "Epoch 100/100\n",
      "100/100 [==============================] - 74s 740ms/step - loss: 0.3690 - acc: 0.8400 - val_loss: 0.4050 - val_acc: 0.8090\n"
     ]
    }
   ],
   "source": [
    "tensorboardDenso = TensorBoard(log_dir=base_dir+'\\\\logs\\\\denso')\n",
    "\n",
    "history_AD = model_AD.fit_generator(\n",
    "      train_generator_AD,\n",
    "      steps_per_epoch=100,\n",
    "      epochs=100,\n",
    "      validation_data=validation_generator_AD,\n",
    "      validation_steps=50,\n",
    "      callbacks=[tensorboardDenso])"
   ]
  },
  {
   "cell_type": "code",
   "execution_count": 31,
   "metadata": {},
   "outputs": [],
   "source": [
    "model_AD.save('cats_dogs_AD.h5')"
   ]
  },
  {
   "cell_type": "code",
   "execution_count": 27,
   "metadata": {},
   "outputs": [
    {
     "data": {
      "image/png": "[encoded data removed]",
      "text/plain": [
       "<Figure size 432x288 with 1 Axes>"
      ]
     },
     "metadata": {
      "needs_background": "light"
     },
     "output_type": "display_data"
    },
    {
     "data": {
      "image/png": "[encoded data removed]",
      "text/plain": [
       "<Figure size 432x288 with 1 Axes>"
      ]
     },
     "metadata": {
      "needs_background": "light"
     },
     "output_type": "display_data"
    }
   ],
   "source": [
    "plot(history_AD)"
   ]
  },
  {
   "cell_type": "markdown",
   "metadata": {},
   "source": [
    "`En este caso el modelo funciona mucho mejor, el \"accuracy\" en el dataset de validación ha aumentado y crece junto con el \"accuracy\" en el conjunto de train. Por otro lado el error tiene una tendencia claramente decreciente en ambos conjuntos lo que significa que el modelo no está sobre ajustando los datos.`"
   ]
  },
  {
   "cell_type": "code",
   "execution_count": 28,
   "metadata": {},
   "outputs": [
    {
     "name": "stdout",
     "output_type": "stream",
     "text": [
      "50/50 [==============================] - 8s 158ms/step - loss: 0.4348 - acc: 0.8240\n"
     ]
    }
   ],
   "source": [
    "#Evalúo el modelo en el conjunto de test\n",
    "test_loss, test_acc = model_AD.evaluate(test_generator_AD)"
   ]
  },
  {
   "cell_type": "markdown",
   "metadata": {},
   "source": [
    "`La taza de acierto en el conjunto de test es esta vez mayor al 80 %`"
   ]
  },
  {
   "cell_type": "markdown",
   "metadata": {},
   "source": [
    "## Referencias\n",
    "\n",
    "Además de los recursos de clases he utilizado las siguientes fuentes: \n",
    "- https://www.youtube.com/watch?v=DbwKbsCWPSg\n",
    "- https://programmerclick.com/article/5801219229/"
   ]
  },
  {
   "cell_type": "code",
   "execution_count": null,
   "metadata": {},
   "outputs": [],
   "source": []
  }
 ],
 "metadata": {
  "kernelspec": {
   "display_name": "Python 3 (ipykernel)",
   "language": "python",
   "name": "python3"
  },
  "language_info": {
   "codemirror_mode": {
    "name": "ipython",
    "version": 3
   },
   "file_extension": ".py",
   "mimetype": "text/x-python",
   "name": "python",
   "nbconvert_exporter": "python",
   "pygments_lexer": "ipython3",
   "version": "3.8.12"
  }
 },
 "nbformat": 4,
 "nbformat_minor": 2
}
